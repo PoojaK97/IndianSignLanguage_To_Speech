{
 "cells": [
  {
   "cell_type": "code",
   "execution_count": 1,
   "metadata": {},
   "outputs": [],
   "source": [
    "import os\n",
    "from randomsentence.sentence_maker import SentenceMaker\n",
    "from randomsentence.sentence_tools import SentenceTools\n",
    "from randomsentence.grammar_check import GrammarCorrector"
   ]
  },
  {
   "cell_type": "code",
   "execution_count": 2,
   "metadata": {},
   "outputs": [],
   "source": [
    "sentence_maker = SentenceMaker()\n",
    "corrector = GrammarCorrector()\n"
   ]
  },
  {
   "cell_type": "code",
   "execution_count": 3,
   "metadata": {},
   "outputs": [
    {
     "output_type": "stream",
     "name": "stderr",
     "text": "stdbuf was not found; communication with perl may hang due to stdio buffering.\nInternal house, protected from the baby, gives them powerful visual money at friend\n"
    }
   ],
   "source": [
    "tagged_sentence = sentence_maker.from_keyword_list(['house', 'baby', 'money', 'friend'])\n",
    "sentence_tools = SentenceTools()\n",
    "out = sentence_tools.detokenize_tagged(tagged_sentence)\n",
    "\n",
    "#out = corrector.correct(out)\n",
    "\n",
    "print(out)"
   ]
  },
  {
   "cell_type": "code",
   "execution_count": 4,
   "metadata": {},
   "outputs": [
    {
     "output_type": "execute_result",
     "data": {
      "text/plain": "'Internal house, protected from the baby, gives them powerful visual money at friend'"
     },
     "metadata": {},
     "execution_count": 4
    }
   ],
   "source": [
    "out\n"
   ]
  },
  {
   "cell_type": "code",
   "execution_count": null,
   "metadata": {},
   "outputs": [],
   "source": []
  }
 ],
 "metadata": {
  "kernelspec": {
   "display_name": "Python 3",
   "language": "python",
   "name": "python3"
  },
  "language_info": {
   "codemirror_mode": {
    "name": "ipython",
    "version": 3
   },
   "file_extension": ".py",
   "mimetype": "text/x-python",
   "name": "python",
   "nbconvert_exporter": "python",
   "pygments_lexer": "ipython3",
   "version": "3.7.4-final"
  }
 },
 "nbformat": 4,
 "nbformat_minor": 4
}